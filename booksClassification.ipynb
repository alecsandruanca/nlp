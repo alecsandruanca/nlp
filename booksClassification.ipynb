{
 "cells": [
  {
   "cell_type": "code",
   "execution_count": 1,
   "metadata": {},
   "outputs": [],
   "source": [
    "import pandas as pd\n",
    "import os\n",
    "import pandas as pd\n",
    "import numpy as np\n",
    "import matplotlib.pyplot as plt\n",
    "import seaborn as sns\n",
    "from sklearn import preprocessing\n",
    "from sklearn.metrics import classification_report\n",
    "from sklearn import metrics\n",
    "from sklearn.model_selection import train_test_split\n",
    "from sklearn.metrics import accuracy_score\n",
    "from sklearn.feature_extraction.text import TfidfTransformer\n",
    "from sklearn.feature_extraction.text import CountVectorizer\n",
    "from sklearn.decomposition import PCA\n",
    "from sklearn.svm import SVC\n",
    "from sklearn.model_selection import GridSearchCV\n",
    "from sklearn.svm import LinearSVC\n",
    "import spacy\n",
    "from sklearn.cluster import DBSCAN, KMeans, AgglomerativeClustering\n",
    "from sklearn.metrics import silhouette_score, adjusted_rand_score, homogeneity_score, completeness_score"
   ]
  },
  {
   "cell_type": "code",
   "execution_count": 4,
   "metadata": {},
   "outputs": [
    {
     "name": "stdout",
     "output_type": "stream",
     "text": [
      "21\n"
     ]
    }
   ],
   "source": [
    "dataset = pd.read_csv(\"dataset.csv\")\n",
    "print(len(dataset.columns))\n",
    "#dataset.head(2)"
   ]
  },
  {
   "cell_type": "code",
   "execution_count": null,
   "metadata": {},
   "outputs": [],
   "source": []
  },
  {
   "cell_type": "code",
   "execution_count": 5,
   "metadata": {},
   "outputs": [],
   "source": [
    "\n",
    "dataset['Unnamed: 0']\n",
    "new_df =dataset.drop(columns=['Unnamed: 0'])\n",
    "new_df.head(1)\n",
    "\n",
    "columns = new_df.columns\n",
    "columns_vect = columns.values\n",
    "# for index,col in enumerate(columns_vect):\n",
    "#     print(index,col)\n",
    "\n",
    "\n",
    "final = pd.DataFrame(columns=['Text','Author'])\n",
    "dict ={}\n",
    "for vect in columns_vect:\n",
    "    #print(vect)\n",
    "    for i in new_df[vect]:\n",
    "        dict[vect] =i\n",
    "        final =final.append({'Text':i,'Author':vect},ignore_index=True)\n",
    "        "
   ]
  },
  {
   "cell_type": "code",
   "execution_count": 6,
   "metadata": {},
   "outputs": [
    {
     "data": {
      "text/html": [
       "<div>\n",
       "<style scoped>\n",
       "    .dataframe tbody tr th:only-of-type {\n",
       "        vertical-align: middle;\n",
       "    }\n",
       "\n",
       "    .dataframe tbody tr th {\n",
       "        vertical-align: top;\n",
       "    }\n",
       "\n",
       "    .dataframe thead th {\n",
       "        text-align: right;\n",
       "    }\n",
       "</style>\n",
       "<table border=\"1\" class=\"dataframe\">\n",
       "  <thead>\n",
       "    <tr style=\"text-align: right;\">\n",
       "      <th></th>\n",
       "      <th>Text</th>\n",
       "      <th>Author</th>\n",
       "    </tr>\n",
       "  </thead>\n",
       "  <tbody>\n",
       "    <tr>\n",
       "      <th>395</th>\n",
       "      <td>my pass-key,' says John.  'The deuce you had!'...</td>\n",
       "      <td>Robert Louis Stevenson</td>\n",
       "    </tr>\n",
       "    <tr>\n",
       "      <th>396</th>\n",
       "      <td>indissuadably pursue its own calling. Yet, so ...</td>\n",
       "      <td>Robert Louis Stevenson</td>\n",
       "    </tr>\n",
       "    <tr>\n",
       "      <th>397</th>\n",
       "      <td>nude, and bearing in his hand the sacrificial ...</td>\n",
       "      <td>Robert Louis Stevenson</td>\n",
       "    </tr>\n",
       "    <tr>\n",
       "      <th>398</th>\n",
       "      <td>adventurer crossed the threshold, than the doo...</td>\n",
       "      <td>Robert Louis Stevenson</td>\n",
       "    </tr>\n",
       "    <tr>\n",
       "      <th>399</th>\n",
       "      <td>heaven. The stars seemed to expand and emit a ...</td>\n",
       "      <td>Robert Louis Stevenson</td>\n",
       "    </tr>\n",
       "  </tbody>\n",
       "</table>\n",
       "</div>"
      ],
      "text/plain": [
       "                                                  Text                  Author\n",
       "395  my pass-key,' says John.  'The deuce you had!'...  Robert Louis Stevenson\n",
       "396  indissuadably pursue its own calling. Yet, so ...  Robert Louis Stevenson\n",
       "397  nude, and bearing in his hand the sacrificial ...  Robert Louis Stevenson\n",
       "398  adventurer crossed the threshold, than the doo...  Robert Louis Stevenson\n",
       "399  heaven. The stars seemed to expand and emit a ...  Robert Louis Stevenson"
      ]
     },
     "execution_count": 6,
     "metadata": {},
     "output_type": "execute_result"
    }
   ],
   "source": [
    "final.tail(5)"
   ]
  },
  {
   "cell_type": "markdown",
   "metadata": {},
   "source": [
    "## SOME NLTK FOR DATASET EXPLORATION\n"
   ]
  },
  {
   "cell_type": "code",
   "execution_count": 7,
   "metadata": {},
   "outputs": [
    {
     "data": {
      "text/plain": [
       "True"
      ]
     },
     "execution_count": 7,
     "metadata": {},
     "output_type": "execute_result"
    }
   ],
   "source": [
    "import os\n",
    "import nltk as nltk\n",
    "from nltk.tag.stanford import StanfordPOSTagger \n",
    "ps = nltk.stem.PorterStemmer()\n",
    "\n",
    "cale_model=\"/home/calin/anca/stanford-postagger-full-2018-10-16/stanford-postagger.jar\"\n",
    "cale_jar_tagger = \"/home/calin/anca/stanford-postagger-full-2018-10-16/models/english-bidirectional-distsim.tagger\"\n",
    "tagger=StanfordPOSTagger(cale_jar_tagger,cale_model) \n",
    "os.path.exists(cale_model)"
   ]
  },
  {
   "cell_type": "code",
   "execution_count": null,
   "metadata": {},
   "outputs": [],
   "source": []
  },
  {
   "cell_type": "code",
   "execution_count": 41,
   "metadata": {},
   "outputs": [],
   "source": [
    "def join_text(tokens):\n",
    "    doc = ' '.join(tokens)\n",
    "    return doc"
   ]
  },
  {
   "cell_type": "code",
   "execution_count": 13,
   "metadata": {},
   "outputs": [],
   "source": [
    "def tokenize_text(text):\n",
    "    words = nltk.word_tokenize(text)\n",
    "    words=[word.lower() for word in words if word.isalpha()]\n",
    "    words = [ps.stem(word) for word in words]  \n",
    "    return words"
   ]
  },
  {
   "cell_type": "code",
   "execution_count": 9,
   "metadata": {},
   "outputs": [],
   "source": [
    "def extract_morpho_proportion(text):\n",
    "    \n",
    "    words = tokenize_text(text)\n",
    "    \n",
    "    d = {}\n",
    "    proportii = {}\n",
    "    parti_vorbire = set()\n",
    "\n",
    "    #stanford tagger magic\n",
    "    result = tagger.tag(words[:100])\n",
    "\n",
    "    for (i,j) in result:\n",
    "        parti_vorbire.add(j)\n",
    "\n",
    "    for k in parti_vorbire:\n",
    "        d.setdefault(k, [])\n",
    "\n",
    "    for (i,j) in result:\n",
    "         d[j].append(i)\n",
    "    \n",
    "    print(len(words))\n",
    "\n",
    "    for k in d:\n",
    "        #print(len(d[k]))\n",
    "        proportii[k] = len(d[k])/len(words)\n",
    "    \n",
    "    print(proportii)"
   ]
  },
  {
   "cell_type": "code",
   "execution_count": null,
   "metadata": {},
   "outputs": [],
   "source": []
  },
  {
   "cell_type": "code",
   "execution_count": null,
   "metadata": {},
   "outputs": [],
   "source": [
    "#print(len(final.iloc[7]['Text']))"
   ]
  },
  {
   "cell_type": "code",
   "execution_count": null,
   "metadata": {},
   "outputs": [],
   "source": [
    "#dict_morpho_proportion = extract_morpho_proportion(final.iloc[3]['Text'])"
   ]
  },
  {
   "cell_type": "markdown",
   "metadata": {},
   "source": [
    "### Analiza sintactica NLTK/ SPACY"
   ]
  },
  {
   "cell_type": "code",
   "execution_count": 10,
   "metadata": {},
   "outputs": [
    {
     "name": "stdout",
     "output_type": "stream",
     "text": [
      "['CC ', 'CD ', 'DT ', 'EX', 'FW ', 'IN ', 'JJ ', 'JJR', 'JJS', 'LS', 'MD', 'NN', 'NNS', 'NNP', 'NNPS', 'PDT', 'POS', 'PRP ', 'PRP$ ', 'RB ', 'RBR ', 'RBS ', 'RP ', 'SYM ', 'TO', 'UH ', 'VB ', 'VBD ', 'VBG ', 'VBN ', 'VBP ', 'VBZ ', 'WDT ', 'WP ', 'WP$ ', 'WRB ']\n",
      "['CC ', 'CD ', 'DT ', 'EX', 'FW ', 'IN ', 'JJ ', 'JJR', 'JJS', 'LS', 'MD', 'NN', 'NNS', 'NNP', 'NNPS', 'PDT', 'POS', 'PRP ', 'PRP$ ', 'RB ', 'RBR ', 'RBS ', 'RP ', 'SYM ', 'TO', 'UH ', 'VB ', 'VBD ', 'VBG ', 'VBN ', 'VBP ', 'VBZ ', 'WDT ', 'WP ', 'WP$ ', 'WRB ']\n"
     ]
    }
   ],
   "source": [
    "\n",
    "\n",
    "inFile = open('all_sentence_parts_upen.txt', 'r')\n",
    "sentence_parts = [line.rstrip('\\n') for line in inFile]\n",
    "print(sentence_parts)\n",
    "proportions_dataframe = pd.DataFrame(columns=sentence_parts)\n",
    "proportions_dataframe.head()\n",
    "print(sentence_parts)"
   ]
  },
  {
   "cell_type": "code",
   "execution_count": 11,
   "metadata": {},
   "outputs": [
    {
     "data": {
      "text/html": [
       "<div>\n",
       "<style scoped>\n",
       "    .dataframe tbody tr th:only-of-type {\n",
       "        vertical-align: middle;\n",
       "    }\n",
       "\n",
       "    .dataframe tbody tr th {\n",
       "        vertical-align: top;\n",
       "    }\n",
       "\n",
       "    .dataframe thead th {\n",
       "        text-align: right;\n",
       "    }\n",
       "</style>\n",
       "<table border=\"1\" class=\"dataframe\">\n",
       "  <thead>\n",
       "    <tr style=\"text-align: right;\">\n",
       "      <th></th>\n",
       "      <th>Text</th>\n",
       "      <th>Author</th>\n",
       "    </tr>\n",
       "  </thead>\n",
       "  <tbody>\n",
       "    <tr>\n",
       "      <th>0</th>\n",
       "      <td>arm, she seemed to have left behind her the fr...</td>\n",
       "      <td>Bret Harte</td>\n",
       "    </tr>\n",
       "    <tr>\n",
       "      <th>1</th>\n",
       "      <td>election poster, and sauntered down towards th...</td>\n",
       "      <td>Bret Harte</td>\n",
       "    </tr>\n",
       "    <tr>\n",
       "      <th>2</th>\n",
       "      <td>to the uneasiness of both parties--and contras...</td>\n",
       "      <td>Bret Harte</td>\n",
       "    </tr>\n",
       "    <tr>\n",
       "      <th>3</th>\n",
       "      <td>directed to the young spirited near horse he w...</td>\n",
       "      <td>Bret Harte</td>\n",
       "    </tr>\n",
       "    <tr>\n",
       "      <th>4</th>\n",
       "      <td>indication I had received of Miss Mannersley's...</td>\n",
       "      <td>Bret Harte</td>\n",
       "    </tr>\n",
       "  </tbody>\n",
       "</table>\n",
       "</div>"
      ],
      "text/plain": [
       "                                                Text      Author\n",
       "0  arm, she seemed to have left behind her the fr...  Bret Harte\n",
       "1  election poster, and sauntered down towards th...  Bret Harte\n",
       "2  to the uneasiness of both parties--and contras...  Bret Harte\n",
       "3  directed to the young spirited near horse he w...  Bret Harte\n",
       "4  indication I had received of Miss Mannersley's...  Bret Harte"
      ]
     },
     "execution_count": 11,
     "metadata": {},
     "output_type": "execute_result"
    }
   ],
   "source": [
    "\n",
    "#proportions_dataframe\n",
    "copie_rezerva = final\n",
    "copie_rezerva.head()"
   ]
  },
  {
   "cell_type": "markdown",
   "metadata": {},
   "source": [
    "Tokenization of the texts took centuries so after doing it, I saved the output into a file, in order to just read afterwards."
   ]
  },
  {
   "cell_type": "code",
   "execution_count": 14,
   "metadata": {},
   "outputs": [
    {
     "name": "stdout",
     "output_type": "stream",
     "text": [
      "CPU times: user 17min 27s, sys: 1.56 s, total: 17min 29s\n",
      "Wall time: 17min 30s\n"
     ]
    }
   ],
   "source": [
    "\n",
    "%%time\n",
    "\n",
    "final['Text'] =final.apply(lambda row:tokenize_text(row['Text']),axis =1)\n",
    "final.to_csv(\"back_up.csv\", encoding='utf-8', index=False)\n",
    "final.head()"
   ]
  },
  {
   "cell_type": "code",
   "execution_count": 18,
   "metadata": {},
   "outputs": [
    {
     "data": {
      "text/html": [
       "<div>\n",
       "<style scoped>\n",
       "    .dataframe tbody tr th:only-of-type {\n",
       "        vertical-align: middle;\n",
       "    }\n",
       "\n",
       "    .dataframe tbody tr th {\n",
       "        vertical-align: top;\n",
       "    }\n",
       "\n",
       "    .dataframe thead th {\n",
       "        text-align: right;\n",
       "    }\n",
       "</style>\n",
       "<table border=\"1\" class=\"dataframe\">\n",
       "  <thead>\n",
       "    <tr style=\"text-align: right;\">\n",
       "      <th></th>\n",
       "      <th>Text</th>\n",
       "      <th>Author</th>\n",
       "    </tr>\n",
       "  </thead>\n",
       "  <tbody>\n",
       "    <tr>\n",
       "      <th>0</th>\n",
       "      <td>[arm, she, seem, to, have, left, behind, her, ...</td>\n",
       "      <td>Bret Harte</td>\n",
       "    </tr>\n",
       "    <tr>\n",
       "      <th>1</th>\n",
       "      <td>[elect, poster, and, saunter, down, toward, th...</td>\n",
       "      <td>Bret Harte</td>\n",
       "    </tr>\n",
       "    <tr>\n",
       "      <th>2</th>\n",
       "      <td>[to, the, uneasi, of, both, parti, and, contra...</td>\n",
       "      <td>Bret Harte</td>\n",
       "    </tr>\n",
       "    <tr>\n",
       "      <th>3</th>\n",
       "      <td>[direct, to, the, young, spirit, near, hors, h...</td>\n",
       "      <td>Bret Harte</td>\n",
       "    </tr>\n",
       "    <tr>\n",
       "      <th>4</th>\n",
       "      <td>[indic, i, had, receiv, of, miss, mannersley, ...</td>\n",
       "      <td>Bret Harte</td>\n",
       "    </tr>\n",
       "  </tbody>\n",
       "</table>\n",
       "</div>"
      ],
      "text/plain": [
       "                                                Text      Author\n",
       "0  [arm, she, seem, to, have, left, behind, her, ...  Bret Harte\n",
       "1  [elect, poster, and, saunter, down, toward, th...  Bret Harte\n",
       "2  [to, the, uneasi, of, both, parti, and, contra...  Bret Harte\n",
       "3  [direct, to, the, young, spirit, near, hors, h...  Bret Harte\n",
       "4  [indic, i, had, receiv, of, miss, mannersley, ...  Bret Harte"
      ]
     },
     "execution_count": 18,
     "metadata": {},
     "output_type": "execute_result"
    }
   ],
   "source": [
    "final.to_csv(\"tokenizat_stemming.csv\", encoding='utf-8', index=False)\n",
    "final.head()"
   ]
  },
  {
   "cell_type": "markdown",
   "metadata": {},
   "source": [
    "\n"
   ]
  },
  {
   "cell_type": "code",
   "execution_count": 42,
   "metadata": {},
   "outputs": [],
   "source": [
    "final['Text'] =final.apply(lambda row:join_text(row['Text']),axis =1)"
   ]
  },
  {
   "cell_type": "code",
   "execution_count": 43,
   "metadata": {},
   "outputs": [
    {
     "data": {
      "text/html": [
       "<div>\n",
       "<style scoped>\n",
       "    .dataframe tbody tr th:only-of-type {\n",
       "        vertical-align: middle;\n",
       "    }\n",
       "\n",
       "    .dataframe tbody tr th {\n",
       "        vertical-align: top;\n",
       "    }\n",
       "\n",
       "    .dataframe thead th {\n",
       "        text-align: right;\n",
       "    }\n",
       "</style>\n",
       "<table border=\"1\" class=\"dataframe\">\n",
       "  <thead>\n",
       "    <tr style=\"text-align: right;\">\n",
       "      <th></th>\n",
       "      <th>Text</th>\n",
       "      <th>Author</th>\n",
       "    </tr>\n",
       "  </thead>\n",
       "  <tbody>\n",
       "    <tr>\n",
       "      <th>0</th>\n",
       "      <td>arm she seem to have left behind her the frank...</td>\n",
       "      <td>Bret Harte</td>\n",
       "    </tr>\n",
       "    <tr>\n",
       "      <th>1</th>\n",
       "      <td>elect poster and saunter down toward the offic...</td>\n",
       "      <td>Bret Harte</td>\n",
       "    </tr>\n",
       "    <tr>\n",
       "      <th>2</th>\n",
       "      <td>to the uneasi of both parti and contrast it wi...</td>\n",
       "      <td>Bret Harte</td>\n",
       "    </tr>\n",
       "    <tr>\n",
       "      <th>3</th>\n",
       "      <td>direct to the young spirit near hors he wa dri...</td>\n",
       "      <td>Bret Harte</td>\n",
       "    </tr>\n",
       "    <tr>\n",
       "      <th>4</th>\n",
       "      <td>indic i had receiv of miss mannersley advanc i...</td>\n",
       "      <td>Bret Harte</td>\n",
       "    </tr>\n",
       "  </tbody>\n",
       "</table>\n",
       "</div>"
      ],
      "text/plain": [
       "                                                Text      Author\n",
       "0  arm she seem to have left behind her the frank...  Bret Harte\n",
       "1  elect poster and saunter down toward the offic...  Bret Harte\n",
       "2  to the uneasi of both parti and contrast it wi...  Bret Harte\n",
       "3  direct to the young spirit near hors he wa dri...  Bret Harte\n",
       "4  indic i had receiv of miss mannersley advanc i...  Bret Harte"
      ]
     },
     "execution_count": 43,
     "metadata": {},
     "output_type": "execute_result"
    }
   ],
   "source": [
    "final.head()"
   ]
  },
  {
   "cell_type": "code",
   "execution_count": null,
   "metadata": {},
   "outputs": [],
   "source": [
    "#df.iat[0,df_row_merged.columns.get_loc(\"Author\")]=\"Anca\""
   ]
  },
  {
   "cell_type": "code",
   "execution_count": null,
   "metadata": {},
   "outputs": [],
   "source": [
    "df_row_merged = pd.concat([final, proportions_dataframe], ignore_index=True,sort=False)"
   ]
  },
  {
   "cell_type": "code",
   "execution_count": null,
   "metadata": {},
   "outputs": [],
   "source": [
    "df_row_merged.head()\n"
   ]
  },
  {
   "cell_type": "code",
   "execution_count": null,
   "metadata": {},
   "outputs": [],
   "source": []
  },
  {
   "cell_type": "code",
   "execution_count": null,
   "metadata": {},
   "outputs": [],
   "source": [
    "# doc = nlp(\"Next week I'll be in Madrid. \\n Let's hope everything goes according to plan!\")\n",
    "# print([(token.text, token.tag_) for token in doc])\n",
    "# unique, counts = np.unique(np.array([token.tag_ for token in doc]), return_counts=True)\n",
    "# pd.DataFrame(data=[counts], columns=unique)"
   ]
  },
  {
   "cell_type": "code",
   "execution_count": null,
   "metadata": {},
   "outputs": [],
   "source": [
    "df_row_merged.dataset_clean2.iat[index, dataset_clean2.columns.get_loc(key)] = value"
   ]
  },
  {
   "cell_type": "code",
   "execution_count": null,
   "metadata": {},
   "outputs": [],
   "source": [
    "# doc = nlp(final.iloc[0]['Text'][:100])\n",
    "# print([(token.text, token.tag_) for token in doc])\n",
    "# unique, counts = np.unique(np.array([token.tag_ for token in doc]), return_counts=True)\n",
    "# pd.DataFrame(data=[counts], columns=unique)\n",
    "# n=sum(counts)\n",
    "# #print(sum(counts))\n",
    "# counts =[c/n for c in counts]\n",
    "# lista_proportii=list(zip(unique,counts))\n",
    "# for i,j in lista_proportii:\n",
    "#     print(i,j)\n",
    "#     df_row_merged.dataset_clean2.iat[index, dataset_clean2.columns.get_loc(key)] = value\n",
    "#     final.iloc[0][i] =j\n",
    "# # df_out = pd.concat([proportions_dataframe,pd.DataFrame(data=[counts], columns=unique)],sort=True)\n",
    "# # df_out.fillna(0)\n",
    "# # df_out.head()"
   ]
  },
  {
   "cell_type": "code",
   "execution_count": null,
   "metadata": {},
   "outputs": [],
   "source": [
    "print(len(df_row_merged))"
   ]
  },
  {
   "cell_type": "markdown",
   "metadata": {},
   "source": [
    "### I tried to extract the proportion of nouns,verbs,determinants in the texts, but no matter what tagger i use, either nltk with Standford Post Tagge or spacy Tagger it keeps giving me a memory error :("
   ]
  },
  {
   "cell_type": "code",
   "execution_count": null,
   "metadata": {},
   "outputs": [],
   "source": [
    "\n",
    "\n",
    "%%time\n",
    "# for i in range(len(df_row_merged)):\n",
    "#     df_row_merged.iloc[i]['Text']\n",
    "nlp = spacy.load('en')\n",
    "\n",
    "for i in range(100):\n",
    "    #print(i,final.iloc[i]['Text'][:10])\n",
    "    doc = nlp(final.iloc[i]['Text'])\n",
    "    #print([(token.text, token.tag_) for token in doc])\n",
    "    unique, counts = np.unique(np.array([token.tag_ for token in doc]), return_counts=True)\n",
    "    pd.DataFrame(data=[counts], columns=unique)\n",
    "    n=sum(counts)\n",
    "    #print(sum(counts))\n",
    "    counts =[c/n for c in counts]\n",
    "    lista_proportii=list(zip(unique,counts))\n",
    "    for key,val in lista_proportii:\n",
    "        if key in sentence_parts:\n",
    "            #print(key,val)\n",
    "            df_row_merged.iat[i, df_row_merged.columns.get_loc(key)] = val\n",
    "\n",
    "    \n"
   ]
  },
  {
   "cell_type": "code",
   "execution_count": null,
   "metadata": {},
   "outputs": [],
   "source": [
    "df_row_merged.head()"
   ]
  },
  {
   "cell_type": "code",
   "execution_count": null,
   "metadata": {},
   "outputs": [],
   "source": [
    "def write_proportion_values(row):\n",
    "    \n",
    "    d = {}\n",
    "    proportii = {}\n",
    "    parti_vorbire = set()\n",
    "\n",
    "    #stanford tagger magic\n",
    "    result = tagger.tag(row)\n",
    "\n",
    "    for (i,j) in result:\n",
    "        parti_vorbire.add(j)\n",
    "\n",
    "    for k in parti_vorbire:\n",
    "        d.setdefault(k, [])\n",
    "\n",
    "    for (i,j) in result:\n",
    "         d[j].append(i)\n",
    "    \n",
    "    print(len(words))\n",
    "\n",
    "    for k in d:\n",
    "        #print(len(d[k]))\n",
    "        proportii[k] = len(d[k])/len(words)\n",
    "    \n",
    "    print(proportii)\n",
    "    \n",
    "\n",
    "# df_row_merged =df_row_merged['Text'].apply(lambda row : write_proportion_values(row))\n",
    "# df_row_merged.head()   \n",
    "#df_row_merged.iloc[0]['Text']\n",
    "# write_proportion_values(df_row_merged.iloc[0]['Text'])"
   ]
  },
  {
   "cell_type": "markdown",
   "metadata": {},
   "source": [
    "## Get X, Y"
   ]
  },
  {
   "cell_type": "code",
   "execution_count": 44,
   "metadata": {},
   "outputs": [],
   "source": [
    "\n",
    "X,Y = final[final.columns[:-1]], final[final.columns[-1:]]"
   ]
  },
  {
   "cell_type": "markdown",
   "metadata": {},
   "source": [
    "# FEATURE EXTRACTION\n",
    "\n"
   ]
  },
  {
   "cell_type": "markdown",
   "metadata": {},
   "source": [
    "### 1.1.1 Text Embedding\n",
    "\n"
   ]
  },
  {
   "cell_type": "markdown",
   "metadata": {},
   "source": [
    "After using CountVectorizer() I realised I was obtaining very low accuracy scores so I switched to TFIDF Vectorizer instead."
   ]
  },
  {
   "cell_type": "code",
   "execution_count": null,
   "metadata": {},
   "outputs": [],
   "source": [
    "%%time\n",
    "#Merge asta de nu se mai poate :))\n",
    "# count_vect = CountVectorizer()\n",
    "# dataset_cv = count_vect.fit_transform(X['Text'])\n",
    "# print(dataset_cv.shape)\n",
    "# vocabulary = vectorizer.get_feature_names()\n",
    "# print(vocabulary[:10])\n",
    "# print(vocabulary[-10:])\n",
    "\n",
    "# vec = CountVectorizer().fit(final.iloc[18]['Text'])\n",
    "# bag_of_words = vec.transform(final.iloc[18]['Text'])\n",
    "# sum_words = bag_of_words.sum(axis=0) \n",
    "# words_freq = [(word, sum_words[0, idx]) for word, idx in vec.vocabulary_.items()]\n",
    "# words_freq =sorted(words_freq, key = lambda x: x[1], reverse=False)\n",
    "# print(words_freq[:20])\n",
    "\n",
    "#print(vec.vocabulary_)"
   ]
  },
  {
   "cell_type": "code",
   "execution_count": null,
   "metadata": {},
   "outputs": [],
   "source": [
    "#print(vec.vocabulary_)"
   ]
  },
  {
   "cell_type": "markdown",
   "metadata": {},
   "source": [
    "## TFIDFVectorizer"
   ]
  },
  {
   "cell_type": "code",
   "execution_count": 39,
   "metadata": {},
   "outputs": [
    {
     "data": {
      "text/html": [
       "<div>\n",
       "<style scoped>\n",
       "    .dataframe tbody tr th:only-of-type {\n",
       "        vertical-align: middle;\n",
       "    }\n",
       "\n",
       "    .dataframe tbody tr th {\n",
       "        vertical-align: top;\n",
       "    }\n",
       "\n",
       "    .dataframe thead th {\n",
       "        text-align: right;\n",
       "    }\n",
       "</style>\n",
       "<table border=\"1\" class=\"dataframe\">\n",
       "  <thead>\n",
       "    <tr style=\"text-align: right;\">\n",
       "      <th></th>\n",
       "      <th>Text</th>\n",
       "    </tr>\n",
       "  </thead>\n",
       "  <tbody>\n",
       "    <tr>\n",
       "      <th>0</th>\n",
       "      <td>[arm, she, seem, to, have, left, behind, her, ...</td>\n",
       "    </tr>\n",
       "    <tr>\n",
       "      <th>1</th>\n",
       "      <td>[elect, poster, and, saunter, down, toward, th...</td>\n",
       "    </tr>\n",
       "    <tr>\n",
       "      <th>2</th>\n",
       "      <td>[to, the, uneasi, of, both, parti, and, contra...</td>\n",
       "    </tr>\n",
       "    <tr>\n",
       "      <th>3</th>\n",
       "      <td>[direct, to, the, young, spirit, near, hors, h...</td>\n",
       "    </tr>\n",
       "    <tr>\n",
       "      <th>4</th>\n",
       "      <td>[indic, i, had, receiv, of, miss, mannersley, ...</td>\n",
       "    </tr>\n",
       "  </tbody>\n",
       "</table>\n",
       "</div>"
      ],
      "text/plain": [
       "                                                Text\n",
       "0  [arm, she, seem, to, have, left, behind, her, ...\n",
       "1  [elect, poster, and, saunter, down, toward, th...\n",
       "2  [to, the, uneasi, of, both, parti, and, contra...\n",
       "3  [direct, to, the, young, spirit, near, hors, h...\n",
       "4  [indic, i, had, receiv, of, miss, mannersley, ..."
      ]
     },
     "execution_count": 39,
     "metadata": {},
     "output_type": "execute_result"
    }
   ],
   "source": [
    "X.head()"
   ]
  },
  {
   "cell_type": "code",
   "execution_count": 45,
   "metadata": {},
   "outputs": [
    {
     "name": "stdout",
     "output_type": "stream",
     "text": [
      "CPU times: user 25 s, sys: 40 ms, total: 25.1 s\n",
      "Wall time: 25.1 s\n"
     ]
    }
   ],
   "source": [
    "%%time\n",
    "\n",
    "from sklearn.feature_extraction.text import TfidfVectorizer\n",
    "vectorizer = TfidfVectorizer(strip_accents='ascii', stop_words='english',token_pattern=r'(?u)\\b[A-Za-z]+\\b')\n",
    "X_tfidf = vectorizer.fit_transform(X['Text'])\n",
    "# vocabulary = vectorizer.get_feature_names()\n",
    "# print(vocabulary[:10])\n",
    "# print(vocabulary[-10:])"
   ]
  },
  {
   "cell_type": "code",
   "execution_count": 127,
   "metadata": {},
   "outputs": [],
   "source": [
    "#print(X_tfidf)"
   ]
  },
  {
   "cell_type": "code",
   "execution_count": 47,
   "metadata": {},
   "outputs": [],
   "source": [
    "X_train, X_test, y_train, y_test = train_test_split(X_tfidf, Y, test_size=0.2, stratify = Y, random_state=42)\n",
    "y_train = y_train.values.ravel()\n",
    "y_test = y_test.values.ravel()"
   ]
  },
  {
   "cell_type": "markdown",
   "metadata": {},
   "source": []
  },
  {
   "cell_type": "markdown",
   "metadata": {},
   "source": [
    "## Text Classification"
   ]
  },
  {
   "cell_type": "code",
   "execution_count": 48,
   "metadata": {},
   "outputs": [
    {
     "data": {
      "text/plain": [
       "SVC(C=1.0, cache_size=200, class_weight=None, coef0=0.0,\n",
       "  decision_function_shape='ovr', degree=3, gamma='auto', kernel='rbf',\n",
       "  max_iter=-1, probability=False, random_state=None, shrinking=True,\n",
       "  tol=0.001, verbose=False)"
      ]
     },
     "execution_count": 48,
     "metadata": {},
     "output_type": "execute_result"
    }
   ],
   "source": [
    "simple_svc_clf = SVC()\n",
    "simple_svc_clf.fit(X_train,y_train)"
   ]
  },
  {
   "cell_type": "code",
   "execution_count": 49,
   "metadata": {},
   "outputs": [
    {
     "name": "stdout",
     "output_type": "stream",
     "text": [
      "0.95\n",
      "0.7625\n"
     ]
    }
   ],
   "source": [
    "print(simple_svc_clf.score(X_train,y_train))\n",
    "print(simple_svc_clf.score(X_test,y_test))"
   ]
  },
  {
   "cell_type": "code",
   "execution_count": 50,
   "metadata": {},
   "outputs": [
    {
     "name": "stdout",
     "output_type": "stream",
     "text": [
      "Best params found:  {'C': 10, 'gamma': 0.001, 'kernel': 'linear'}\n",
      "                             precision    recall  f1-score   support\n",
      "\n",
      "                 Bret Harte       1.00      1.00      1.00         4\n",
      "             Charles Darwin       1.00      1.00      1.00         4\n",
      "           Charles Kingsley       1.00      1.00      1.00         4\n",
      "     Frank Richard Stockton       1.00      1.00      1.00         4\n",
      "                Henry James       1.00      1.00      1.00         4\n",
      "        Henry Rider Haggard       1.00      1.00      1.00         4\n",
      "       Herbert George Wells       1.00      1.00      1.00         4\n",
      "                Jack London       1.00      1.00      1.00         4\n",
      "               Jacob Abbott       1.00      1.00      1.00         4\n",
      "      James Fenimore Cooper       1.00      1.00      1.00         4\n",
      "                John Bunyan       1.00      1.00      1.00         4\n",
      "                John Ruskin       1.00      1.00      1.00         4\n",
      "                 Lord Byron       1.00      1.00      1.00         4\n",
      "                 Mark Twain       1.00      1.00      1.00         4\n",
      "        Nathaniel Hawthorne       1.00      1.00      1.00         4\n",
      "              P G Wodehouse       1.00      1.00      1.00         4\n",
      "     Robert Louis Stevenson       1.00      1.00      1.00         4\n",
      "             Wilkie Collins       1.00      1.00      1.00         4\n",
      "William Makepeace Thackeray       1.00      1.00      1.00         4\n",
      "                  Zane Grey       1.00      1.00      1.00         4\n",
      "\n",
      "                avg / total       1.00      1.00      1.00        80\n",
      "\n",
      "CPU times: user 11min 25s, sys: 1.31 s, total: 11min 27s\n",
      "Wall time: 11min 27s\n"
     ]
    }
   ],
   "source": [
    "%%time\n",
    "\n",
    "param_grid = [\n",
    "  {'C': [1, 10, 100, 1000], 'gamma': [0.001, 0.0001], 'kernel': ['rbf','linear']},\n",
    " ]\n",
    "\n",
    "\n",
    "\n",
    "grid_search = GridSearchCV(simple_svc_clf,param_grid, cv = 5)\n",
    "grid_search.fit(X_train,y_train)\n",
    "print(\"Best params found: \",grid_search.best_params_)\n",
    "predictions = grid_search.predict(X_test)\n",
    "print(classification_report(y_test,predictions))"
   ]
  },
  {
   "cell_type": "code",
   "execution_count": 53,
   "metadata": {},
   "outputs": [
    {
     "name": "stdout",
     "output_type": "stream",
     "text": [
      "Best params found:  {'C': 10, 'gamma': 0.001, 'kernel': 'linear'}\n",
      "Score train: 1.0\n",
      "Score test: 1.0\n"
     ]
    }
   ],
   "source": [
    "print(\"Best params found: \",grid_search.best_params_)\n",
    "predictions = grid_search.predict(X_test)\n",
    "# print(classification_report(y_test,predictions))\n",
    "print(\"Score train:\",grid_search.score(X_train,y_train))\n",
    "print(\"Score test:\",grid_search.score(X_test,y_test))"
   ]
  },
  {
   "cell_type": "markdown",
   "metadata": {},
   "source": [
    "Using GridSearchCv to find the best hyperparamters to optimise the accuracy score I have come to:\n",
    "    Best params found:  {'C': 10, 'gamma': 0.001, 'kernel': 'linear'}\n",
    "Since the scores obtained both on train and test are 100%, the goal has been reached"
   ]
  },
  {
   "cell_type": "code",
   "execution_count": 54,
   "metadata": {},
   "outputs": [
    {
     "name": "stdout",
     "output_type": "stream",
     "text": [
      "1.0\n",
      "1.0\n"
     ]
    }
   ],
   "source": [
    "\n",
    "svc_clf = LinearSVC()\n",
    "svc_clf.fit(X_train,y_train)\n",
    "\n",
    "print(svc_clf.score(X_train,y_train))\n",
    "print(svc_clf.score(X_test,y_test))"
   ]
  },
  {
   "cell_type": "markdown",
   "metadata": {},
   "source": [
    "## PCA"
   ]
  },
  {
   "cell_type": "markdown",
   "metadata": {},
   "source": [
    "\"When should I use PCA?\n",
    "\n",
    "Do you want to reduce the number of variables, but aren’t able to identify variables to completely remove from consideration?\n",
    "\n",
    "Do you want to ensure your variables are independent of one another?\n",
    "\n",
    "Are you comfortable making your independent variables less interpretable?\""
   ]
  },
  {
   "cell_type": "code",
   "execution_count": 55,
   "metadata": {},
   "outputs": [
    {
     "name": "stdout",
     "output_type": "stream",
     "text": [
      "CPU times: user 6 µs, sys: 0 ns, total: 6 µs\n",
      "Wall time: 11.4 µs\n"
     ]
    },
    {
     "data": {
      "text/plain": [
       "scipy.sparse.csr.csr_matrix"
      ]
     },
     "execution_count": 55,
     "metadata": {},
     "output_type": "execute_result"
    }
   ],
   "source": [
    "%%time\n",
    "\n",
    "type(X_train)\n"
   ]
  },
  {
   "cell_type": "code",
   "execution_count": 56,
   "metadata": {},
   "outputs": [
    {
     "name": "stdout",
     "output_type": "stream",
     "text": [
      "pca explained variance ratio sum:  1.0\n"
     ]
    }
   ],
   "source": [
    "\n",
    "pca = PCA()\n",
    "principal_components = pca.fit_transform(X_train.todense())\n",
    "print(\"pca explained variance ratio sum: \",pca.explained_variance_ratio_.sum()) \n",
    "#print(\"pca single values: \",pca.singular_values_)"
   ]
  },
  {
   "cell_type": "code",
   "execution_count": 129,
   "metadata": {},
   "outputs": [
    {
     "data": {
      "text/plain": [
       "Text(0.5,1,'Explained variance by the principal components obtained')"
      ]
     },
     "execution_count": 129,
     "metadata": {},
     "output_type": "execute_result"
    },
    {
     "data": {
      "image/png": "[encoded data removed]",
      "text/plain": [
       "<Figure size 432x288 with 1 Axes>"
      ]
     },
     "metadata": {},
     "output_type": "display_data"
    }
   ],
   "source": [
    "plt.plot(np.cumsum(pca.explained_variance_ratio_))\n",
    "plt.xlim(0,300,1)\n",
    "plt.xlabel('Number of components')\n",
    "plt.ylabel('Cumulative explained variance')\n",
    "plt.title(\"Explained variance by the principal components obtained\")"
   ]
  },
  {
   "cell_type": "code",
   "execution_count": 65,
   "metadata": {},
   "outputs": [
    {
     "data": {
      "text/plain": [
       "Text(0,0.5,'Cumulative explained variance')"
      ]
     },
     "execution_count": 65,
     "metadata": {},
     "output_type": "execute_result"
    },
    {
     "data": {
      "image/png": "[encoded data removed]",
      "text/plain": [
       "<Figure size 432x288 with 1 Axes>"
      ]
     },
     "metadata": {},
     "output_type": "display_data"
    }
   ],
   "source": [
    "plt.plot(np.cumsum(pca.explained_variance_ratio_))\n",
    "plt.xlim(0,268,1)\n",
    "plt.xlabel('Number of components')\n",
    "plt.ylabel('Cumulative explained variance')"
   ]
  },
  {
   "cell_type": "code",
   "execution_count": 59,
   "metadata": {},
   "outputs": [],
   "source": [
    "X_t_train = pca.transform(X_train.todense())\n",
    "X_t_test = pca.transform(X_test.todense())"
   ]
  },
  {
   "cell_type": "code",
   "execution_count": 73,
   "metadata": {},
   "outputs": [
    {
     "data": {
      "text/plain": [
       "(320, 320)"
      ]
     },
     "execution_count": 73,
     "metadata": {},
     "output_type": "execute_result"
    }
   ],
   "source": [
    "X_t_train.shape"
   ]
  },
  {
   "cell_type": "code",
   "execution_count": null,
   "metadata": {},
   "outputs": [],
   "source": []
  },
  {
   "cell_type": "code",
   "execution_count": 74,
   "metadata": {},
   "outputs": [
    {
     "name": "stdout",
     "output_type": "stream",
     "text": [
      "1.0\n",
      "1.0\n"
     ]
    }
   ],
   "source": [
    "\n",
    "svc_pca_clf = LinearSVC()\n",
    "svc_pca_clf.fit(X_t_train,y_train)\n",
    "\n",
    "print(svc_pca_clf.score(X_t_train,y_train))\n",
    "print(svc_pca_clf.score(X_t_test,y_test))"
   ]
  },
  {
   "cell_type": "markdown",
   "metadata": {},
   "source": [
    "## 2. Text Clustering"
   ]
  },
  {
   "cell_type": "code",
   "execution_count": null,
   "metadata": {},
   "outputs": [],
   "source": []
  },
  {
   "cell_type": "markdown",
   "metadata": {},
   "source": [
    "## KMEANS"
   ]
  },
  {
   "cell_type": "code",
   "execution_count": 75,
   "metadata": {},
   "outputs": [],
   "source": [
    "from sklearn.metrics.cluster import homogeneity_score"
   ]
  },
  {
   "cell_type": "code",
   "execution_count": 76,
   "metadata": {},
   "outputs": [
    {
     "name": "stdout",
     "output_type": "stream",
     "text": [
      "CPU times: user 8.25 s, sys: 552 ms, total: 8.8 s\n",
      "Wall time: 4.75 s\n"
     ]
    }
   ],
   "source": [
    "%%time\n",
    "pca_2 = PCA()\n",
    "principal_components = pca_2.fit_transform(X_train.todense())"
   ]
  },
  {
   "cell_type": "code",
   "execution_count": 77,
   "metadata": {},
   "outputs": [
    {
     "data": {
      "text/plain": [
       "(320, 320)"
      ]
     },
     "execution_count": 77,
     "metadata": {},
     "output_type": "execute_result"
    }
   ],
   "source": [
    "principal_components.shape"
   ]
  },
  {
   "cell_type": "code",
   "execution_count": 78,
   "metadata": {},
   "outputs": [],
   "source": [
    "kmeans = KMeans(n_clusters=20)\n",
    "kmeans.fit(principal_components)\n",
    "y = kmeans.predict(principal_components)\n"
   ]
  },
  {
   "cell_type": "code",
   "execution_count": 79,
   "metadata": {},
   "outputs": [
    {
     "name": "stdout",
     "output_type": "stream",
     "text": [
      "Sum of squared distances of samples to their closest cluster center. 143.36498577851177\n",
      "silhouette_score  0.02540590162402573\n"
     ]
    }
   ],
   "source": [
    "\n",
    "kmeans.cluster_centers_\n",
    "\n",
    "print(\"Sum of squared distances of samples to their closest cluster center.\",kmeans.inertia_)\n",
    "print(\"silhouette_score \",silhouette_score(principal_components,y))"
   ]
  },
  {
   "cell_type": "code",
   "execution_count": 80,
   "metadata": {},
   "outputs": [
    {
     "name": "stdout",
     "output_type": "stream",
     "text": [
      "5 : 0.01481369126940398\n",
      "6 : 0.030058439851517703\n",
      "7 : 0.07383475063236584\n",
      "8 : 0.02245085339538324\n",
      "9 : 0.051703689296314394\n",
      "10 : 0.06432625195934624\n",
      "11 : 0.044220322676331844\n",
      "12 : 0.0201700220008946\n",
      "13 : 0.05370608166229085\n",
      "14 : 0.026085043505815097\n",
      "15 : 0.03005698933457106\n",
      "16 : 0.021308932633072732\n",
      "17 : 0.033949467462405354\n",
      "18 : 0.035551638184516864\n",
      "19 : 0.044475894379369635\n",
      "CPU times: user 6.91 s, sys: 7.94 s, total: 14.8 s\n",
      "Wall time: 4 s\n"
     ]
    }
   ],
   "source": [
    "%%time\n",
    "from scipy.spatial.distance import cdist\n",
    "\n",
    "\n",
    "cost = np.zeros(20)\n",
    "agg_scores = []\n",
    "cluster ={}\n",
    "distortions =np.zeros(20)\n",
    "for k in range(5,20):\n",
    "    kmeans = KMeans(n_clusters=k)\n",
    "    kmeans.fit(principal_components)\n",
    " \n",
    "    dist = (sum(np.min(cdist(principal_components, kmeans.cluster_centers_, 'euclidean'), axis=1)) / principal_components.shape[0])\n",
    "    distortions[k] = dist\n",
    "    \n",
    "    cost[k] = kmeans.inertia_\n",
    "    s=silhouette_score(principal_components,kmeans.labels_)\n",
    "    agg_scores.append((k,s))\n",
    "    print(k,':',s)\n",
    "  \n",
    "    cluster[\"algorithm\"] = \"KMeans\"\n",
    "    cluster[\"labels\"] = kmeans.labels_\n",
    "    cluster[\"parameters\"] = {'n_clusters': k}"
   ]
  },
  {
   "cell_type": "code",
   "execution_count": 81,
   "metadata": {},
   "outputs": [
    {
     "name": "stdout",
     "output_type": "stream",
     "text": [
      "[0.         0.         0.         0.         0.         0.70671981\n",
      " 0.69937246 0.69524902 0.68940275 0.68218735 0.67885134 0.67799269\n",
      " 0.67245173 0.66987294 0.66529142 0.66165208 0.66308606 0.65491007\n",
      " 0.65380921 0.64949742]\n"
     ]
    }
   ],
   "source": [
    "print(distortions)"
   ]
  },
  {
   "cell_type": "code",
   "execution_count": 82,
   "metadata": {},
   "outputs": [
    {
     "data": {
      "image/png": "[encoded data removed]",
      "text/plain": [
       "<Figure size 576x432 with 1 Axes>"
      ]
     },
     "metadata": {},
     "output_type": "display_data"
    }
   ],
   "source": [
    "fig, ax = plt.subplots(1,1, figsize =(8,6))\n",
    "ax.plot(range(5,20),distortions[5:20])\n",
    "ax.set_xlabel('Number of clusters')\n",
    "ax.set_ylabel('Distorsion')\n",
    "ax.set_title(\"The Elbow method showing the optimal k\")\n",
    "ax.grid()"
   ]
  },
  {
   "cell_type": "markdown",
   "metadata": {},
   "source": [
    "## DBSCAN"
   ]
  },
  {
   "cell_type": "code",
   "execution_count": 102,
   "metadata": {},
   "outputs": [
    {
     "name": "stdout",
     "output_type": "stream",
     "text": [
      "clusters: [(-1, 12), (0, 308)]\n",
      "CPU times: user 95.2 ms, sys: 0 ns, total: 95.2 ms\n",
      "Wall time: 94.9 ms\n"
     ]
    }
   ],
   "source": [
    "%%time\n",
    "# DBSCAN out of the box:\n",
    "dbscan = DBSCAN(eps=1.1,min_samples=4)\n",
    "dbscan.fit(principal_components)\n",
    "unique, counts = np.unique(dbscan.labels_, return_counts=True)\n",
    "print(\"clusters:\", list(zip(unique, counts)))"
   ]
  },
  {
   "cell_type": "code",
   "execution_count": 103,
   "metadata": {},
   "outputs": [
    {
     "data": {
      "text/plain": [
       "scipy.sparse.csr.csr_matrix"
      ]
     },
     "execution_count": 103,
     "metadata": {},
     "output_type": "execute_result"
    }
   ],
   "source": [
    "type(X_train)"
   ]
  },
  {
   "cell_type": "code",
   "execution_count": 104,
   "metadata": {},
   "outputs": [
    {
     "data": {
      "image/png": "[encoded data removed]",
      "text/plain": [
       "<Figure size 432x288 with 1 Axes>"
      ]
     },
     "metadata": {},
     "output_type": "display_data"
    }
   ],
   "source": [
    "from sklearn.neighbors import NearestNeighbors\n",
    "for k in range(2,6):\n",
    "    knn = NearestNeighbors(n_neighbors=k).fit(principal_components)\n",
    "    distances,indices = knn.kneighbors(principal_components)\n",
    "    distanceDec = sorted(distances[:,k-1], reverse=False)\n",
    "    plt.plot(list(range(1,len(X_train.toarray())+1)), distanceDec)\n",
    "    \n",
    "    "
   ]
  },
  {
   "cell_type": "code",
   "execution_count": 105,
   "metadata": {},
   "outputs": [
    {
     "name": "stdout",
     "output_type": "stream",
     "text": [
      "eps: 2 clusters: [(0, 320)]\n",
      "eps: 3 clusters: [(0, 320)]\n",
      "eps: 4 clusters: [(0, 320)]\n",
      "eps: 5 clusters: [(0, 320)]\n",
      "eps: 6 clusters: [(0, 320)]\n",
      "eps: 7 clusters: [(0, 320)]\n",
      "eps: 8 clusters: [(0, 320)]\n",
      "eps: 9 clusters: [(0, 320)]\n",
      "eps: 10 clusters: [(0, 320)]\n",
      "eps: 11 clusters: [(0, 320)]\n",
      "eps: 12 clusters: [(0, 320)]\n",
      "eps: 13 clusters: [(0, 320)]\n",
      "eps: 14 clusters: [(0, 320)]\n",
      "eps: 15 clusters: [(0, 320)]\n",
      "eps: 16 clusters: [(0, 320)]\n",
      "eps: 17 clusters: [(0, 320)]\n",
      "eps: 18 clusters: [(0, 320)]\n",
      "eps: 19 clusters: [(0, 320)]\n",
      "CPU times: user 18.1 s, sys: 84.1 ms, total: 18.2 s\n",
      "Wall time: 18 s\n"
     ]
    }
   ],
   "source": [
    "\n",
    "%%time\n",
    "\n",
    "\n",
    "clusterings = []\n",
    "\n",
    "epsilon = np.arange(2, 20, 1)\n",
    "for e in epsilon:\n",
    "  cluster = {}\n",
    "  dbscan = DBSCAN(eps=e,min_samples=2)\n",
    "  dbscan.fit(X_train)\n",
    "  cluster[\"algorithm\"] = \"DBSCAN\"\n",
    "  cluster[\"labels\"] = dbscan.labels_\n",
    "  cluster[\"parameters\"] = {'eps': e}\n",
    "  clusterings.append(cluster)\n",
    "  \n",
    "  unique, counts = np.unique(dbscan.labels_, return_counts=True)\n",
    "  print(\"eps:\",e,\"clusters:\", list(zip(unique, counts)))"
   ]
  },
  {
   "cell_type": "code",
   "execution_count": 106,
   "metadata": {},
   "outputs": [],
   "source": [
    "lista = list(zip(unique, counts))"
   ]
  },
  {
   "cell_type": "code",
   "execution_count": 130,
   "metadata": {},
   "outputs": [],
   "source": [
    "# x,y = zip(*lista)\n",
    "\n",
    "# plt.scatter(x,y)\n",
    "# plt.show()"
   ]
  },
  {
   "cell_type": "code",
   "execution_count": 108,
   "metadata": {},
   "outputs": [
    {
     "data": {
      "text/plain": [
       "(320, 94967)"
      ]
     },
     "execution_count": 108,
     "metadata": {},
     "output_type": "execute_result"
    }
   ],
   "source": [
    "X_train.shape"
   ]
  },
  {
   "cell_type": "code",
   "execution_count": 109,
   "metadata": {},
   "outputs": [],
   "source": [
    "# db_cluster = DBSCAN(eps=9.7, min_samples=2, algorithm='ball_tree', metric='minkowski', leaf_size=90, p=2)\n",
    "# arr = db_cluster.fit_predict(X_train)\n",
    "# print(\"Clusters assigned are:\", set(db_cluster.labels_))\n",
    "\n",
    "# uni, counts = np.unique(arr, return_counts=True)\n",
    "# d = list[zip(uni, counts)]\n",
    "# print(d)"
   ]
  },
  {
   "cell_type": "code",
   "execution_count": 110,
   "metadata": {},
   "outputs": [
    {
     "data": {
      "text/plain": [
       "<320x94967 sparse matrix of type '<class 'numpy.float64'>'\n",
       "\twith 1673200 stored elements in Compressed Sparse Row format>"
      ]
     },
     "execution_count": 110,
     "metadata": {},
     "output_type": "execute_result"
    }
   ],
   "source": [
    "X_train"
   ]
  },
  {
   "cell_type": "code",
   "execution_count": 121,
   "metadata": {},
   "outputs": [
    {
     "name": "stdout",
     "output_type": "stream",
     "text": [
      "0.03786548339120058\n",
      "[11  1  1  3 15  5 13 13  5  5 13  1  2  5 11  2  5  3 11  8  2  2 15 15\n",
      "  3  2  5  3  0  3 14  2  0  2  3  5 14  3  3  2  2  4  5 12 11  5  2 17\n",
      " 19  3  0  3  3  2  4  8  9  4  6  1  3  5 11  0  3  3 11 11  2  3 15 10\n",
      "  3  5 13  9 11  5 17 15  9  5 19  1  3 16  3  2  8  0  0 15  2 17  3 17\n",
      "  6  6  7  5 17  0 15  0 15  2  6 17  9  2  3  2  3  3  2  3  6  2  3  7\n",
      "  5  5  5 19  5  0  8  0  3 13 16  2 19  2 16  3 11 13  3  2 16 12  4  1\n",
      "  2  1  2  2  0 13  1 11  0 17 11 10  0 11  3  2  3  5 11  3 15  8  3  3\n",
      "  2  0  3  9 11  9  3  2  0  5  9  9  3 15  1  3  0  2  2 15  8  3 15  2\n",
      " 18 15 17  5  0  0  5  0  2 14 16  3  2  0  0  8  3  1  6  8  9  5 19  2\n",
      "  7  8  9 11  1  3  1  5  2  5 13 13  2  0  3  1  2 13 16 17  2  8  9  5\n",
      "  0  3  4  3 16  3 17  9  5 17  2  8  2  5  5  3  9  3  2  0  5  2  2 18\n",
      "  5  2  2  5  2  0  2  5  3  5  5  2  8  0  9  2 13 11  2 11  3  3  1  3\n",
      "  3  2  1 17  3  2  3 17  3 17  5  3  2  0  0  6  5  2 12 15  9  2  1  7\n",
      "  3 15  9 15  3  2  3  3]\n",
      "CPU times: user 4.47 s, sys: 132 ms, total: 4.61 s\n",
      "Wall time: 4.61 s\n"
     ]
    }
   ],
   "source": [
    "%%time\n",
    "\n",
    "agg = AgglomerativeClustering(linkage=\"ward\",n_clusters=20)\n",
    "clustering_agg =agg.fit(X_train.todense())\n",
    "s=silhouette_score(X_train,agg.labels_)\n",
    "print(s)\n",
    "\n",
    "print(clustering_agg.labels_)\n",
    "cluster[\"algorithm\"] = \"Agglomerative\"\n",
    "cluster[\"labels\"] = agg.labels_\n",
    "cluster[\"parameters\"] = {'n_clusters': 20}\n"
   ]
  },
  {
   "cell_type": "code",
   "execution_count": 126,
   "metadata": {},
   "outputs": [
    {
     "data": {
      "image/png": "[encoded data removed]",
      "text/plain": [
       "<Figure size 540x360 with 1 Axes>"
      ]
     },
     "metadata": {},
     "output_type": "display_data"
    }
   ],
   "source": [
    "from scipy.cluster.hierarchy import dendrogram, linkage\n",
    "\n",
    "linkage_matrix = linkage(X_train.todense(), 'ward')\n",
    "figure = plt.figure(figsize=(7.5, 5))\n",
    "dendrogram(\n",
    "    linkage_matrix,\n",
    "    truncate_mode='lastp',  # show only the last p merged clusters\n",
    "    p=24,  # show only the last p merged clusters\n",
    "    leaf_rotation=90.,\n",
    "    leaf_font_size=12.,\n",
    "    show_contracted=True,  # to get a distribution impression in truncated branches\n",
    ")\n",
    "plt.title('Hierarchical Clustering Dendrogram (Ward)')\n",
    "plt.xlabel('sample index')\n",
    "plt.ylabel('distance')\n",
    "plt.tight_layout()\n",
    "plt.show()"
   ]
  },
  {
   "cell_type": "code",
   "execution_count": null,
   "metadata": {},
   "outputs": [],
   "source": [
    "print(cluster)"
   ]
  },
  {
   "cell_type": "code",
   "execution_count": null,
   "metadata": {},
   "outputs": [],
   "source": []
  },
  {
   "cell_type": "markdown",
   "metadata": {},
   "source": []
  },
  {
   "cell_type": "code",
   "execution_count": null,
   "metadata": {},
   "outputs": [],
   "source": []
  }
 ],
 "metadata": {
  "kernelspec": {
   "display_name": "Python 3",
   "language": "python",
   "name": "python3"
  },
  "language_info": {
   "codemirror_mode": {
    "name": "ipython",
    "version": 3
   },
   "file_extension": ".py",
   "mimetype": "text/x-python",
   "name": "python",
   "nbconvert_exporter": "python",
   "pygments_lexer": "ipython3",
   "version": "3.6.5"
  }
 },
 "nbformat": 4,
 "nbformat_minor": 2
}
